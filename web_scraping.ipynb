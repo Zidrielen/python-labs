{
 "cells": [
  {
   "attachments": {},
   "cell_type": "markdown",
   "metadata": {},
   "source": [
    "Объявление нужных нам модулей, классов, методов"
   ]
  },
  {
   "cell_type": "code",
   "execution_count": null,
   "metadata": {},
   "outputs": [],
   "source": [
    "from os import mkdir, remove, listdir, rename, path\n",
    "from urllib.parse import unquote\n",
    "from time import sleep\n",
    "from imghdr import what\n",
    "\n",
    "import requests\n",
    "from bs4 import BeautifulSoup\n",
    "from cv2 import imread\n",
    "import np\n",
    "import re"
   ]
  },
  {
   "attachments": {},
   "cell_type": "markdown",
   "metadata": {},
   "source": [
    "Объявление константных переменных"
   ]
  },
  {
   "cell_type": "code",
   "execution_count": null,
   "metadata": {},
   "outputs": [],
   "source": [
    "DOG=\"dogs\"\n",
    "CAT=\"cats\"\n",
    "PATH_TO_DOG = \"new_dataset/dogs\"\n",
    "PATH_TO_CAT = \"new_dataset/cats\""
   ]
  },
  {
   "attachments": {},
   "cell_type": "markdown",
   "metadata": {},
   "source": [
    "Функция создания папок под изображения"
   ]
  },
  {
   "cell_type": "code",
   "execution_count": null,
   "metadata": {},
   "outputs": [],
   "source": [
    "def make_dir():\n",
    "    '''Make directories for images'''\n",
    "    if not path.isdir(\"new_dataset\"):\n",
    "        mkdir(\"new_dataset\")\n",
    "    if not path.isdir(\"new_dataset/cats\"):\n",
    "        mkdir(\"new_dataset/cats\")\n",
    "    if not path.isdir(\"new_dataset/dogs\"):\n",
    "        mkdir(\"new_dataset/dogs\")\n",
    "\n",
    "make_dir()"
   ]
  },
  {
   "attachments": {},
   "cell_type": "markdown",
   "metadata": {},
   "source": [
    "Загрузка полноформатных изображений с помощью web-scraping'а"
   ]
  },
  {
   "cell_type": "code",
   "execution_count": null,
   "metadata": {},
   "outputs": [],
   "source": [
    "def load_image(animal):\n",
    "    '''Collects full size images from the Internet'''\n",
    "    for i in range(2, 5):\n",
    "        n = 30 * i\n",
    "        sleep(30)\n",
    "        link_yandex = f\"https://yandex.ru/images/search?text={animal}&p={str(i)}\"\n",
    "        response = requests.get(link_yandex).text\n",
    "\n",
    "        img_link = []\n",
    "        soup = BeautifulSoup(response, \"lxml\")\n",
    "        invalid_img_link = soup.find_all(\"a\", class_=\"serp-item__link\")\n",
    "        for img in invalid_img_link:\n",
    "            url = re.split(\"url=\", unquote(img.get(\"href\")))[1]\n",
    "            if \"jpg\" in url:\n",
    "                img_link.append(url[:url.rfind(\"jpg\") + 3])\n",
    "            else:\n",
    "                img_link.append(url[:url.rfind(\"jpeg\") + 4])\n",
    "\n",
    "        for link in img_link:\n",
    "            print(link)\n",
    "            try:\n",
    "                sleep(5)\n",
    "                image = requests.get(link, stream=True).content\n",
    "                path = f\"new_dataset\\{animal}\\{str(n).zfill(4)}.jpg\"\n",
    "                with open(path, \"wb\") as file:\n",
    "                    file.write(image)\n",
    "                    n += 1\n",
    "            except:\n",
    "                continue\n",
    "\n",
    "load_image(CAT) # CAT or DOG"
   ]
  },
  {
   "attachments": {},
   "cell_type": "markdown",
   "metadata": {},
   "source": [
    "Проверка на соответствие изображений формату JPEG"
   ]
  },
  {
   "cell_type": "code",
   "execution_count": null,
   "metadata": {},
   "outputs": [],
   "source": [
    "def cheking_format(path_to_folder: str):\n",
    "    images = listdir(path_to_folder)\n",
    "    for image in images:\n",
    "        path_to_image = f\"{path_to_folder}/{image}\"\n",
    "        if(what(path_to_image) != \"jpeg\"):\n",
    "            remove(path_to_image)\n",
    "\n",
    "cheking_format(PATH_TO_CAT) #PATH_TO_CAT or PATH_TO_DOG"
   ]
  },
  {
   "attachments": {},
   "cell_type": "markdown",
   "metadata": {},
   "source": [
    "Поиск и удаление повторяющихся изображений"
   ]
  },
  {
   "cell_type": "code",
   "execution_count": null,
   "metadata": {},
   "outputs": [],
   "source": [
    "def delete_dublicate(path_to_folder: str) -> None:\n",
    "    image = listdir(path_to_folder)\n",
    "    num_images = len(image) - 1\n",
    "    i, j = 0, 0\n",
    "\n",
    "    img_data = []\n",
    "    for img in image:\n",
    "        img_data.append(imread(f\"{path_to_folder}/{img}\"))\n",
    "\n",
    "    while i < num_images:\n",
    "        index_array = []\n",
    "        j = i + 1\n",
    "\n",
    "        while j <= num_images:\n",
    "            if np.all(img_data[i] == img_data[j]):\n",
    "                remove(f\"{path_to_folder}/{image[j]}\")\n",
    "                print(image[i], \"+\", image[j])\n",
    "                index_array.append(j)\n",
    "            j += 1\n",
    "\n",
    "        for index in index_array:\n",
    "            del img_data[index]\n",
    "            del image[index]\n",
    "        num_images = len(image) - 1\n",
    "        print(f\"Compare {image[i]} complete\")\n",
    "        i += 1\n",
    "\n",
    "delete_dublicate(PATH_TO_CAT) #PATH_TO_CAT or PATH_TO_DOG"
   ]
  },
  {
   "attachments": {},
   "cell_type": "markdown",
   "metadata": {},
   "source": [
    "Переименование изображений с соответствии с их порядком а папке"
   ]
  },
  {
   "cell_type": "code",
   "execution_count": null,
   "metadata": {},
   "outputs": [],
   "source": [
    "def rename_image(path_to_folder: str) -> None:\n",
    "    '''Changing the name of images'''\n",
    "    images = listdir(path_to_folder)\n",
    "    for i, image in enumerate(images):\n",
    "        before = f\"{path_to_folder}/{image}\"\n",
    "        after = f\"{path_to_folder}/{str(i).zfill(4)}.jpg\"\n",
    "        rename(before, after)\n",
    "\n",
    "rename_image(PATH_TO_CAT) #PATH_TO_CAT or PATH_TO_DOG"
   ]
  }
 ],
 "metadata": {
  "kernelspec": {
   "display_name": ".venv",
   "language": "python",
   "name": "python3"
  },
  "language_info": {
   "name": "python",
   "version": "3.9.13 (tags/v3.9.13:6de2ca5, May 17 2022, 16:36:42) [MSC v.1929 64 bit (AMD64)]"
  },
  "orig_nbformat": 4,
  "vscode": {
   "interpreter": {
    "hash": "aee13ad740bd21ce9dae61c60a5de140c134121cee53c07e97776da066626d50"
   }
  }
 },
 "nbformat": 4,
 "nbformat_minor": 2
}
