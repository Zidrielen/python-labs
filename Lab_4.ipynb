{
 "cells": [
  {
   "cell_type": "markdown",
   "metadata": {},
   "source": [
    "Объявление нужных нам модулей и классов."
   ]
  },
  {
   "cell_type": "code",
   "execution_count": 1,
   "metadata": {},
   "outputs": [],
   "source": [
    "import os\n",
    "from random import randint\n",
    "\n",
    "import pandas as pd\n",
    "import numpy as np\n",
    "import cv2\n",
    "import matplotlib.pyplot as plt"
   ]
  },
  {
   "cell_type": "markdown",
   "metadata": {},
   "source": [
    "Создание DataFrame с именованием колонок."
   ]
  },
  {
   "cell_type": "code",
   "execution_count": null,
   "metadata": {},
   "outputs": [],
   "source": [
    "def append_abs_path(abs_path_to_files: list,\n",
    "                    list_files: list, dir: list) -> None:\n",
    "    '''Adding the full path to a file to the list'''\n",
    "    for files in list_files:\n",
    "        path = os.path.join(dir, files)\n",
    "        abs_path_to_files.append(path)\n",
    "\n",
    "\n",
    "def part_1() -> pd.core.series.Series:\n",
    "    '''Creating a DataFrame with column names'''\n",
    "    project_path = os.path.abspath(\"\")\n",
    "    cat_dir = os.path.join(project_path, \"dataset\", \"cat\")\n",
    "    dog_dir = os.path.join(project_path, \"dataset\", \"dog\")\n",
    "\n",
    "    files_cat = os.listdir(cat_dir)\n",
    "    files_dog = os.listdir(dog_dir)\n",
    "    class_ = list([\"cat\"] * len(files_cat)) + list([\"dog\"] * len(files_dog))\n",
    "\n",
    "    abs_path_to_files = []\n",
    "    append_abs_path(abs_path_to_files, files_cat, cat_dir)\n",
    "    append_abs_path(abs_path_to_files, files_dog, dog_dir)\n",
    "\n",
    "    return pd.DataFrame({\n",
    "        \"class\": class_,\n",
    "        \"abspath\": abs_path_to_files\n",
    "    })\n",
    "\n",
    "my_series = part_1()\n",
    "my_series"
   ]
  },
  {
   "cell_type": "markdown",
   "metadata": {},
   "source": [
    "Добавление колонки label, хранящая метку класса(0 для котов, 1 для собак)."
   ]
  },
  {
   "cell_type": "code",
   "execution_count": null,
   "metadata": {},
   "outputs": [],
   "source": [
    "i = 0\n",
    "\n",
    "for class_ in my_series[\"class\"]:\n",
    "    if class_ == \"cat\":\n",
    "        my_series.loc[[i], [\"label\"]] = 0\n",
    "    else:\n",
    "        my_series.loc[[i], [\"label\"]] = 1\n",
    "    i += 1\n",
    "\n",
    "my_series"
   ]
  },
  {
   "cell_type": "markdown",
   "metadata": {},
   "source": [
    "Добавление колонок с шириной, высотой и глубиной каждого изображения."
   ]
  },
  {
   "cell_type": "code",
   "execution_count": null,
   "metadata": {},
   "outputs": [],
   "source": [
    "relpaths = []\n",
    "for i in range(0, my_series[\"abspath\"].count()):\n",
    "    abspath = my_series.iloc[i, 1]\n",
    "    relpaths.append(abspath[-20:])\n",
    "    \n",
    "j = 0\n",
    "for path in relpaths:\n",
    "    image = cv2.imread(path)\n",
    "    data = image.shape\n",
    "    my_series.loc[[j], \"height\"] = data[0]\n",
    "    my_series.loc[[j], \"width\"] = data[1]\n",
    "    my_series.loc[[j], \"depth\"] = data[2]\n",
    "    j += 1\n",
    "\n",
    "my_series"
   ]
  },
  {
   "cell_type": "markdown",
   "metadata": {},
   "source": [
    "Статистические данные о DataFrame(данные сбалансированы)."
   ]
  },
  {
   "cell_type": "code",
   "execution_count": null,
   "metadata": {},
   "outputs": [],
   "source": [
    "\n",
    "my_series.describe()"
   ]
  },
  {
   "cell_type": "markdown",
   "metadata": {},
   "source": [
    "Функция, возвращающая DataFrame, отфильтрованная по метке класса."
   ]
  },
  {
   "cell_type": "code",
   "execution_count": null,
   "metadata": {},
   "outputs": [],
   "source": [
    "def part_5(my_series: pd.core.series.Series,\n",
    "           label: int) -> pd.core.series.Series:\n",
    "    return my_series[my_series[\"label\"] == label]\n",
    "\n",
    "label_my_series = part_5(my_series, 1)\n",
    "label_my_series"
   ]
  },
  {
   "cell_type": "markdown",
   "metadata": {},
   "source": [
    "Функция, возвращающая отфильтрованный DataFrame по метке, высоте и ширине."
   ]
  },
  {
   "cell_type": "code",
   "execution_count": null,
   "metadata": {},
   "outputs": [],
   "source": [
    "def part_6(my_series: pd.core.series.Series, label: int,\n",
    "           h: int, w: int) -> pd.core.series.Series:\n",
    "    tmp_1 = my_series[my_series[\"label\"] == label]\n",
    "    tmp_2 = tmp_1[tmp_1[\"height\"] <= h]\n",
    "    return tmp_2[tmp_2[\"width\"] <= w]\n",
    "\n",
    "image_my_series = part_6(my_series, 0, 319, 500)\n",
    "image_my_series"
   ]
  },
  {
   "cell_type": "markdown",
   "metadata": {},
   "source": [
    "Функция, вычисляющая кол-во пикселей для исходного DataFrame и макс., мин. и ср. значения пикселей для DataFrame, отфильтрованного по метке."
   ]
  },
  {
   "cell_type": "code",
   "execution_count": null,
   "metadata": {},
   "outputs": [],
   "source": [
    "def part_7(label: int) -> None:\n",
    "    my_series[\"pixels\"] = (my_series[\"height\"] *\n",
    "                           my_series[\"width\"]  *\n",
    "                           my_series[\"depth\"])\n",
    "\n",
    "    pix_my_series = part_5(label)\n",
    "    \n",
    "    print(\"The maximum number of pixels is \", pix_my_series[\"pixels\"].max())\n",
    "    print(\"The minimum number of pixels is\", pix_my_series[\"pixels\"].min())\n",
    "    print(\"The average number of pixels is\", pix_my_series[\"pixels\"].mean())\n",
    "\n",
    "pixel_my_series = part_7(0)\n",
    "pixel_my_series\n",
    "my_series"
   ]
  },
  {
   "cell_type": "markdown",
   "metadata": {},
   "source": [
    "Функция, строящая гистограмму."
   ]
  },
  {
   "cell_type": "code",
   "execution_count": 79,
   "metadata": {},
   "outputs": [],
   "source": [
    "def part_8(my_series: pd.core.series.Series, label: int) -> np.ndarray:\n",
    "    label_series = my_series[my_series[\"label\"] == label]\n",
    "    rand_num = randint(0, label_series[\"abspath\"].count())\n",
    "    abspath = my_series.iloc[rand_num, 1]\n",
    "    relpath = abspath[-20:]\n",
    "\n",
    "    image = cv2.imread(relpath)\n",
    "\n",
    "    histr_1 = cv2.calcHist([image], [0], None, [256], [0,256])\n",
    "    histr_2 = cv2.calcHist([image], [1], None, [256], [0,256])\n",
    "    histr_3 = cv2.calcHist([image], [2], None, [256], [0,256])\n",
    "    \n",
    "    return histr_1, histr_2, histr_3"
   ]
  },
  {
   "cell_type": "markdown",
   "metadata": {},
   "source": [
    "Отрисовка гистограмм."
   ]
  },
  {
   "cell_type": "code",
   "execution_count": null,
   "metadata": {},
   "outputs": [],
   "source": [
    "histr_1, histr_2, histr_3 = part_8(my_series, 0)\n",
    "col = ('b','g','r')\n",
    "plt.plot(histr_1, color=col[0])\n",
    "plt.plot(histr_2, color=col[1])\n",
    "plt.plot(histr_3, color=col[2])\n",
    "plt.xlabel(\"value\")\n",
    "plt.ylabel(\"count\")\n",
    "plt.title(\"histogram\")\n",
    "plt.xlim([0,256])\n",
    "plt.show()"
   ]
  }
 ],
 "metadata": {
  "kernelspec": {
   "display_name": "Python 3.9.13 ('.venv': venv)",
   "language": "python",
   "name": "python3"
  },
  "language_info": {
   "codemirror_mode": {
    "name": "ipython",
    "version": 3
   },
   "file_extension": ".py",
   "mimetype": "text/x-python",
   "name": "python",
   "nbconvert_exporter": "python",
   "pygments_lexer": "ipython3",
   "version": "3.9.13"
  },
  "orig_nbformat": 4,
  "vscode": {
   "interpreter": {
    "hash": "aee13ad740bd21ce9dae61c60a5de140c134121cee53c07e97776da066626d50"
   }
  }
 },
 "nbformat": 4,
 "nbformat_minor": 2
}
