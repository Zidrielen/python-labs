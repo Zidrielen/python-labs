{
 "cells": [
  {
   "cell_type": "markdown",
   "metadata": {},
   "source": [
    "Объявление нужных нам модулей и классов."
   ]
  },
  {
   "cell_type": "code",
   "execution_count": 1,
   "metadata": {},
   "outputs": [],
   "source": [
    "from random import randint\n",
    "from typing import List\n",
    "\n",
    "import pandas as pd\n",
    "import numpy as np\n",
    "import cv2\n",
    "import matplotlib.pyplot as plt"
   ]
  },
  {
   "cell_type": "markdown",
   "metadata": {},
   "source": [
    "Создание DataFrame с именованием колонок."
   ]
  },
  {
   "cell_type": "code",
   "execution_count": null,
   "metadata": {},
   "outputs": [],
   "source": [
    "df_start = pd.read_csv(\"annotation.csv\", sep=\" \", encoding=\"windows-1251\", header=None)\n",
    "my_series = pd.DataFrame({\n",
    "    \"class\": df_start.iloc[:, 2],\n",
    "    \"abspath\": df_start.iloc[:, 0]\n",
    "})\n",
    "\n",
    "my_series"
   ]
  },
  {
   "cell_type": "markdown",
   "metadata": {},
   "source": [
    "Добавление колонки label, хранящая метку класса(0 для котов, 1 для собак)."
   ]
  },
  {
   "cell_type": "code",
   "execution_count": null,
   "metadata": {},
   "outputs": [],
   "source": [
    "my_series[\"label\"] = 0\n",
    "\n",
    "for i, class_ in enumerate(my_series[\"class\"]):\n",
    "    if class_ == \"dog\":\n",
    "        my_series.iloc[[i], [2]] = 1\n",
    "\n",
    "my_series"
   ]
  },
  {
   "cell_type": "markdown",
   "metadata": {},
   "source": [
    "Добавление колонок с шириной, высотой и глубиной каждого изображения."
   ]
  },
  {
   "cell_type": "code",
   "execution_count": null,
   "metadata": {},
   "outputs": [],
   "source": [
    "my_series[\"height\"] = 0\n",
    "my_series[\"width\"] = 0\n",
    "my_series[\"depth\"] = 0\n",
    "my_series[\"pixels\"] = 0\n",
    "\n",
    "for i, path in enumerate(my_series[\"abspath\"]):\n",
    "    data = cv2.imread(path[-20:])\n",
    "    my_series.iloc[[i], [3]] = data.shape[0]\n",
    "    my_series.iloc[[i], [4]] = data.shape[1]\n",
    "    my_series.iloc[[i], [5]] = data.shape[2]\n",
    "    my_series.iloc[[i], [6]] = data.size\n",
    "\n",
    "my_series"
   ]
  },
  {
   "cell_type": "markdown",
   "metadata": {},
   "source": [
    "Статистические данные о DataFrame(данные сбалансированы)."
   ]
  },
  {
   "cell_type": "code",
   "execution_count": null,
   "metadata": {},
   "outputs": [],
   "source": [
    "my_series.describe()"
   ]
  },
  {
   "cell_type": "markdown",
   "metadata": {},
   "source": [
    "Функция, возвращающая DataFrame, отфильтрованная по метке класса."
   ]
  },
  {
   "cell_type": "code",
   "execution_count": 12,
   "metadata": {},
   "outputs": [],
   "source": [
    "def part_5(my_series: pd.DataFrame, label: int) -> pd.DataFrame:\n",
    "    '''Returns a DataFrame with the given label'''\n",
    "    return my_series[my_series[\"label\"] == label]\n",
    "\n",
    "label_my_series = part_5(my_series, 1)"
   ]
  },
  {
   "cell_type": "markdown",
   "metadata": {},
   "source": [
    "Функция, возвращающая отфильтрованный DataFrame по метке, высоте и ширине."
   ]
  },
  {
   "cell_type": "code",
   "execution_count": 13,
   "metadata": {},
   "outputs": [],
   "source": [
    "def part_6(my_series: pd.DataFrame, label: int, h: int, w: int) -> pd.DataFrame:\n",
    "    '''Returns a DataFrame with the given label and appropriate dimensions'''\n",
    "    tmp_1 = my_series[my_series[\"label\"] == label]\n",
    "    tmp_2 = tmp_1[tmp_1[\"height\"] <= h]\n",
    "    return tmp_2[tmp_2[\"width\"] <= w]\n",
    "\n",
    "image_my_series = part_6(my_series, 0, 319, 500)"
   ]
  },
  {
   "cell_type": "markdown",
   "metadata": {},
   "source": [
    "Функция, вычисляющая кол-во пикселей для исходного DataFrame и макс., мин. и ср. значения пикселей для DataFrame, отфильтрованного по метке."
   ]
  },
  {
   "cell_type": "code",
   "execution_count": null,
   "metadata": {},
   "outputs": [],
   "source": [
    "def part_7(label: int) -> None:\n",
    "    '''Outputs the minimum, maximum, and median pixels'''\n",
    "    pix_my_series = part_5(my_series, label)\n",
    "    \n",
    "    print(\"The maximum number of pixels is\", pix_my_series[\"pixels\"].max())\n",
    "    print(\"The minimum number of pixels is\", pix_my_series[\"pixels\"].min())\n",
    "    print(\"The average number of pixels is\", pix_my_series[\"pixels\"].mean())\n",
    "\n",
    "part_7(0)"
   ]
  },
  {
   "cell_type": "markdown",
   "metadata": {},
   "source": [
    "Функция, строящая гистограмму."
   ]
  },
  {
   "cell_type": "code",
   "execution_count": 10,
   "metadata": {},
   "outputs": [],
   "source": [
    "def part_8(my_series: pd.DataFrame, label: int) -> List[np.ndarray]:\n",
    "    '''Returns 3 arrays with histograms for each channel'''\n",
    "    label_series = my_series[my_series[\"label\"] == label]\n",
    "    rand_num = randint(0, len(label_series[\"abspath\"]))\n",
    "    abspath = my_series.iloc[rand_num, 1]\n",
    "\n",
    "    image = cv2.imread(abspath[-20:])\n",
    "\n",
    "    histr_1 = cv2.calcHist([image], [0], None, [256], [0,256])\n",
    "    histr_2 = cv2.calcHist([image], [1], None, [256], [0,256])\n",
    "    histr_3 = cv2.calcHist([image], [2], None, [256], [0,256])\n",
    "    \n",
    "    return [histr_1, histr_2, histr_3]"
   ]
  },
  {
   "cell_type": "markdown",
   "metadata": {},
   "source": [
    "Отрисовка гистограмм."
   ]
  },
  {
   "cell_type": "code",
   "execution_count": null,
   "metadata": {},
   "outputs": [],
   "source": [
    "histr_1, histr_2, histr_3 = part_8(my_series, 0)\n",
    "col = ('b','g','r')\n",
    "plt.plot(histr_1, color=col[0])\n",
    "plt.plot(histr_2, color=col[1])\n",
    "plt.plot(histr_3, color=col[2])\n",
    "plt.xlabel(\"value\")\n",
    "plt.ylabel(\"count\")\n",
    "plt.title(\"histogram\")\n",
    "plt.xlim([0,256])\n",
    "plt.show()"
   ]
  },
  {
   "cell_type": "markdown",
   "metadata": {},
   "source": [
    "Создание электронной таблицы, куда загружаем весь наш исходный DataFrame."
   ]
  },
  {
   "cell_type": "code",
   "execution_count": 59,
   "metadata": {},
   "outputs": [],
   "source": [
    "my_series.to_csv(\"my_series.csv\", sep=\" \")"
   ]
  }
 ],
 "metadata": {
  "kernelspec": {
   "display_name": "Python 3.9.13 ('.venv': venv)",
   "language": "python",
   "name": "python3"
  },
  "language_info": {
   "codemirror_mode": {
    "name": "ipython",
    "version": 3
   },
   "file_extension": ".py",
   "mimetype": "text/x-python",
   "name": "python",
   "nbconvert_exporter": "python",
   "pygments_lexer": "ipython3",
   "version": "3.9.13 (tags/v3.9.13:6de2ca5, May 17 2022, 16:36:42) [MSC v.1929 64 bit (AMD64)]"
  },
  "orig_nbformat": 4,
  "vscode": {
   "interpreter": {
    "hash": "aee13ad740bd21ce9dae61c60a5de140c134121cee53c07e97776da066626d50"
   }
  }
 },
 "nbformat": 4,
 "nbformat_minor": 2
}
